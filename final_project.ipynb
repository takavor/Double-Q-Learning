{
 "cells": [
  {
   "attachments": {},
   "cell_type": "markdown",
   "metadata": {},
   "source": [
    "# Sevag Baghdassarian (260980928)\n",
    "## COMP 579 Final Project"
   ]
  },
  {
   "attachments": {},
   "cell_type": "markdown",
   "metadata": {},
   "source": [
    "Ideas for project:\n",
    "\n",
    "-try larger grid sizes\n",
    "\n",
    "-try UP and RIGHT moves more often"
   ]
  },
  {
   "cell_type": "code",
   "execution_count": 60,
   "metadata": {},
   "outputs": [],
   "source": [
    "import numpy as np\n",
    "import matplotlib.pyplot as plt\n",
    "from tqdm import tqdm\n",
    "\n",
    "from envs.GridWorld3x3Env import GridWorld3x3Env"
   ]
  },
  {
   "attachments": {},
   "cell_type": "markdown",
   "metadata": {},
   "source": [
    "Global constants"
   ]
  },
  {
   "cell_type": "code",
   "execution_count": 61,
   "metadata": {},
   "outputs": [],
   "source": [
    "GAMMA = 0.95 # discount factor was 0.95 for all experiments in the original paper\n",
    "MAX_STEPS = 10000"
   ]
  },
  {
   "attachments": {},
   "cell_type": "markdown",
   "metadata": {},
   "source": [
    "# Learner function implementations"
   ]
  },
  {
   "attachments": {},
   "cell_type": "markdown",
   "metadata": {},
   "source": [
    "As in the Double Q-learning paper, the Q-learning and Double Q-learning agents are implemented with an $\\epsilon$-greedy exploration with $\\epsilon = 1/\\sqrt{n(s)}$, where $n(s)$ is the number of times state $s$ is visited by the agent. \n",
    "\n",
    "The learning rate $\\alpha$ is determined by $\\alpha = 1/n(s,a)$ (mode 1) or $\\alpha = 1/n(s,a)^{0.8}$ (mode 2), where $n(s,a)$ corresponds to the number of times a given state-action pair is visited."
   ]
  },
  {
   "cell_type": "code",
   "execution_count": 62,
   "metadata": {},
   "outputs": [],
   "source": [
    "def e_greedy(env, Q, state, n_s):\n",
    "    '''\n",
    "    Implementation of episolon-greedy exploration as detailed above.\n",
    "    '''\n",
    "    \n",
    "    epsilon = 1 / np.sqrt(n_s[state])\n",
    "    \n",
    "    # choose action\n",
    "    if np.random.rand() < epsilon:\n",
    "        # random action\n",
    "        action = env.action_space.sample()\n",
    "    else:\n",
    "        # greedy action\n",
    "        max = np.where(np.max(Q[state]) == Q[state])[0]\n",
    "        # in case there are ties, pick randomly\n",
    "        action = np.random.choice(max)\n",
    "    \n",
    "    return action"
   ]
  },
  {
   "cell_type": "code",
   "execution_count": 63,
   "metadata": {},
   "outputs": [],
   "source": [
    "def get_lr(n, mode):\n",
    "    '''\n",
    "    Function to calculate the learning rate based on the number of times a state-action pair is visited, and the mode.\n",
    "    '''\n",
    "    if mode == 1:\n",
    "        alpha = 1/n\n",
    "    elif mode == 2:\n",
    "        alpha = 1/(n**0.8)\n",
    "    return alpha"
   ]
  },
  {
   "attachments": {},
   "cell_type": "markdown",
   "metadata": {},
   "source": [
    "## Q-learning"
   ]
  },
  {
   "cell_type": "code",
   "execution_count": 64,
   "metadata": {},
   "outputs": [],
   "source": [
    "def Q_learning(env, n_episodes, mode):\n",
    "    '''\n",
    "    Implementation of the Q-learning algorithm.\n",
    "    '''\n",
    "    \n",
    "    # create Q table\n",
    "    Q = np.zeros((env.observation_space.n, env.action_space.n))\n",
    "\n",
    "    avg_reward_per_episode = []\n",
    "\n",
    "    # for episode in range(n_episodes):\n",
    "    for episode in tqdm(range(n_episodes)):\n",
    "        \n",
    "        # keep track of number of times a state is visited (used to calculate epislon)\n",
    "        n_s = np.zeros(env.observation_space.n)\n",
    "\n",
    "        # keep track of number of times a state-action pair is visited (used to calculate alpha)\n",
    "        n_s_a = np.zeros((env.observation_space.n, env.action_space.n))\n",
    "\n",
    "        # reset env\n",
    "        state, _ = env.reset()\n",
    "        \n",
    "        # update n_s for initial state\n",
    "        n_s[state] += 1\n",
    "\n",
    "        terminated = False\n",
    "\n",
    "        total_reward_for_episode = 0\n",
    "        num_steps_for_episode = 0\n",
    "\n",
    "        while not terminated:\n",
    "            \n",
    "            # choose action\n",
    "            action = e_greedy(env, Q, state, n_s)\n",
    "\n",
    "            # step and get reward\n",
    "            next_state, reward, terminated, _ = env.step(action)\n",
    "\n",
    "            # update n_s for new state\n",
    "            n_s[next_state] += 1\n",
    "\n",
    "            # update n_s_a for (state, action)\n",
    "            n_s_a[state, action] += 1\n",
    "\n",
    "            # get learning rate alpha\n",
    "            alpha = get_lr(n_s_a[state, action], mode)\n",
    "\n",
    "            # update Q table\n",
    "            Q[state, action] = Q[state, action] + alpha * (reward + GAMMA * np.max(Q[next_state]) - Q[state, action])\n",
    "\n",
    "            # update state to be next state\n",
    "            state = next_state\n",
    "\n",
    "            num_steps_for_episode += 1\n",
    "            total_reward_for_episode += reward\n",
    "\n",
    "        avg_reward_per_episode.append(total_reward_for_episode / num_steps_for_episode)\n",
    "\n",
    "    return avg_reward_per_episode, Q"
   ]
  },
  {
   "cell_type": "code",
   "execution_count": 70,
   "metadata": {},
   "outputs": [
    {
     "name": "stderr",
     "output_type": "stream",
     "text": [
      "100%|██████████| 10000/10000 [00:01<00:00, 5370.34it/s]\n"
     ]
    },
    {
     "data": {
      "text/plain": [
       "[<matplotlib.lines.Line2D at 0x1d7b14bdf40>]"
      ]
     },
     "execution_count": 70,
     "metadata": {},
     "output_type": "execute_result"
    },
    {
     "data": {
      "image/png": "[encoded data removed]",
      "text/plain": [
       "<Figure size 640x480 with 1 Axes>"
      ]
     },
     "metadata": {},
     "output_type": "display_data"
    }
   ],
   "source": [
    "# test q-learning\n",
    "\n",
    "env3x3 = GridWorld3x3Env()\n",
    "\n",
    "avg_reward_per_episode, Q = Q_learning(env=env3x3, n_episodes=10000, mode=1)\n",
    "\n",
    "plt.plot(np.arange(10000), avg_reward_per_episode)\n",
    "plt.show()"
   ]
  },
  {
   "cell_type": "code",
   "execution_count": 66,
   "metadata": {},
   "outputs": [
    {
     "data": {
      "text/plain": [
       "array([1.1492e+04, 9.1800e+02, 5.1000e+01, 2.7547e+04, 6.5300e+02,\n",
       "       1.9000e+01, 2.0659e+04, 1.0148e+04, 2.0000e+04])"
      ]
     },
     "execution_count": 66,
     "metadata": {},
     "output_type": "execute_result"
    }
   ],
   "source": [
    "n_s"
   ]
  },
  {
   "cell_type": "code",
   "execution_count": 67,
   "metadata": {},
   "outputs": [
    {
     "data": {
      "text/plain": [
       "array([[1.0581e+04, 6.0000e+01, 7.6300e+02, 8.8000e+01],\n",
       "       [3.0000e+01, 7.5500e+02, 3.6000e+01, 9.7000e+01],\n",
       "       [4.0000e+00, 4.0000e+01, 4.0000e+00, 3.0000e+00],\n",
       "       [1.2829e+04, 1.3554e+04, 5.7500e+02, 5.8900e+02],\n",
       "       [1.1000e+01, 6.1000e+02, 1.4000e+01, 1.8000e+01],\n",
       "       [1.0000e+01, 0.0000e+00, 1.0000e+00, 8.0000e+00],\n",
       "       [7.6020e+03, 1.7100e+02, 1.0084e+04, 2.8020e+03],\n",
       "       [5.3000e+01, 5.7000e+01, 9.9900e+03, 4.8000e+01],\n",
       "       [2.9000e+01, 9.7860e+03, 3.9000e+01, 1.4600e+02]])"
      ]
     },
     "execution_count": 67,
     "metadata": {},
     "output_type": "execute_result"
    }
   ],
   "source": [
    "n_s_a"
   ]
  },
  {
   "attachments": {},
   "cell_type": "markdown",
   "metadata": {},
   "source": [
    "## Double Q-learning"
   ]
  },
  {
   "cell_type": "code",
   "execution_count": 68,
   "metadata": {},
   "outputs": [],
   "source": [
    "def Double_Q_learning():\n",
    "    pass"
   ]
  },
  {
   "cell_type": "code",
   "execution_count": 69,
   "metadata": {},
   "outputs": [],
   "source": [
    "# test environment\n",
    "e = GridWorld3x3Env()\n",
    "UP = 0\n",
    "LEFT = 1\n",
    "RIGHT = 2\n",
    "DOWN = 3\n",
    "GRID_WIDTH = 3\n",
    "\n",
    "\n"
   ]
  }
 ],
 "metadata": {
  "kernelspec": {
   "display_name": "base",
   "language": "python",
   "name": "python3"
  },
  "language_info": {
   "codemirror_mode": {
    "name": "ipython",
    "version": 3
   },
   "file_extension": ".py",
   "mimetype": "text/x-python",
   "name": "python",
   "nbconvert_exporter": "python",
   "pygments_lexer": "ipython3",
   "version": "3.8.8"
  },
  "orig_nbformat": 4
 },
 "nbformat": 4,
 "nbformat_minor": 2
}
