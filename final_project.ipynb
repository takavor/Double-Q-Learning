{
 "cells": [
  {
   "attachments": {},
   "cell_type": "markdown",
   "metadata": {},
   "source": [
    "# Sevag Baghdassarian (260980928)\n",
    "## COMP 579 Final Project"
   ]
  },
  {
   "attachments": {},
   "cell_type": "markdown",
   "metadata": {},
   "source": [
    "See the `envs` folder for the implementations of the environments used in this project."
   ]
  },
  {
   "attachments": {},
   "cell_type": "markdown",
   "metadata": {},
   "source": [
    "Ideas for project:\n",
    "\n",
    "-try larger grid sizes\n",
    "\n",
    "-try UP and RIGHT moves more often"
   ]
  },
  {
   "cell_type": "code",
   "execution_count": 278,
   "metadata": {},
   "outputs": [],
   "source": [
    "import numpy as np\n",
    "import matplotlib.pyplot as plt\n",
    "from tqdm import tqdm\n",
    "\n",
    "from envs.GridWorld3x3Env import GridWorld3x3Env"
   ]
  },
  {
   "attachments": {},
   "cell_type": "markdown",
   "metadata": {},
   "source": [
    "Global constants"
   ]
  },
  {
   "cell_type": "code",
   "execution_count": 279,
   "metadata": {},
   "outputs": [],
   "source": [
    "GAMMA = 0.95 # discount factor was 0.95 for all experiments in the original paper\n",
    "MAX_STEPS = 10000 # number of steps to trace running average of rewards (10000 in the original paper)"
   ]
  },
  {
   "attachments": {},
   "cell_type": "markdown",
   "metadata": {},
   "source": [
    "### Implementing the learner functions"
   ]
  },
  {
   "attachments": {},
   "cell_type": "markdown",
   "metadata": {},
   "source": [
    "As in the Double Q-learning paper, the Q-learning and Double Q-learning agents are implemented with an $\\epsilon$-greedy exploration with $\\epsilon = 1/\\sqrt{n(s)}$, where $n(s)$ is the number of times state $s$ is visited by the agent. \n",
    "\n",
    "The learning rate $\\alpha$ is determined by $\\alpha = 1/n(s,a)$ (mode 1) or $\\alpha = 1/n(s,a)^{0.8}$ (mode 2), where $n(s,a)$ corresponds to the number of times a given state-action pair is visited."
   ]
  },
  {
   "cell_type": "code",
   "execution_count": 280,
   "metadata": {},
   "outputs": [],
   "source": [
    "def e_greedy(env, Q, state, n_s):\n",
    "    '''\n",
    "    Implementation of episolon-greedy exploration as detailed above.\n",
    "    '''\n",
    "    \n",
    "    epsilon = 1 / np.sqrt(n_s[state])\n",
    "    \n",
    "    # choose action\n",
    "    if np.random.rand() < epsilon:\n",
    "        # random action\n",
    "        action = env.action_space.sample()\n",
    "    else:\n",
    "        # greedy action\n",
    "        max = np.where(np.max(Q[state]) == Q[state])[0]\n",
    "        # in case there are ties, pick randomly\n",
    "        action = np.random.choice(max)\n",
    "    \n",
    "    return action"
   ]
  },
  {
   "cell_type": "code",
   "execution_count": 281,
   "metadata": {},
   "outputs": [],
   "source": [
    "def get_epsilon(n):\n",
    "    '''\n",
    "    Function to calculate epsilon based on the number of times a state is visited.\n",
    "    '''\n",
    "    return 1 / np.sqrt(n)"
   ]
  },
  {
   "cell_type": "code",
   "execution_count": 282,
   "metadata": {},
   "outputs": [],
   "source": [
    "def get_lr(n, mode):\n",
    "    '''\n",
    "    Function to calculate the learning rate based on the number of times a state-action pair is visited, and the mode.\n",
    "    '''\n",
    "    if mode == 1:\n",
    "        alpha = 1/n\n",
    "    elif mode == 2:\n",
    "        alpha = 1/(n**0.8)\n",
    "    return alpha"
   ]
  },
  {
   "cell_type": "code",
   "execution_count": 283,
   "metadata": {},
   "outputs": [
    {
     "data": {
      "text/plain": [
       "2"
      ]
     },
     "execution_count": 283,
     "metadata": {},
     "output_type": "execute_result"
    }
   ],
   "source": [
    "Q = np.array([[1, 2], [3, 4]])\n",
    "state = 0\n",
    "np.max(Q[state])"
   ]
  },
  {
   "attachments": {},
   "cell_type": "markdown",
   "metadata": {},
   "source": [
    "#### Q-learning"
   ]
  },
  {
   "cell_type": "code",
   "execution_count": 284,
   "metadata": {},
   "outputs": [],
   "source": [
    "def Q_learning(env, n_episodes, mode):\n",
    "    '''\n",
    "    Implementation of the Q-learning algorithm.\n",
    "    '''\n",
    "    \n",
    "    # create Q table\n",
    "    Q = np.zeros((env.observation_space.n, env.action_space.n))\n",
    "\n",
    "    # variables to keep track of reward running average for first MAX_STEPS number of steps\n",
    "    running_avg_per_step = []\n",
    "    running_avg = 0\n",
    "    total_steps_taken = 0\n",
    "\n",
    "    # variables to keep track of max Q(S,a) for the starting state over all episodes\n",
    "    running_avg_max_Q_per_step = []\n",
    "    running_avg_max_Q = 0\n",
    "\n",
    "    for episode in tqdm(range(n_episodes)):\n",
    "        \n",
    "        # keep track of number of times a state is visited (used to calculate epislon)\n",
    "        n_s = np.zeros(env.observation_space.n)\n",
    "\n",
    "        # keep track of number of times a state-action pair is visited (used to calculate alpha)\n",
    "        n_s_a = np.zeros((env.observation_space.n, env.action_space.n))\n",
    "\n",
    "        # reset env\n",
    "        state, _ = env.reset()\n",
    "        \n",
    "        # update n_s for initial state\n",
    "        n_s[state] += 1\n",
    "\n",
    "        # for starting state: get maximal Q value, get running average\n",
    "        max_starting_Q = np.max(Q[state])\n",
    "        running_avg_max_Q = (total_steps_taken * running_avg_max_Q + max_starting_Q) / (total_steps_taken + 1)\n",
    "        running_avg_max_Q_per_step.append(running_avg_max_Q)\n",
    "\n",
    "        terminated = False\n",
    "\n",
    "        while not terminated:\n",
    "\n",
    "            # choose action\n",
    "            action = e_greedy(env, Q, state, n_s)\n",
    "\n",
    "            # step and get reward\n",
    "            next_state, reward, terminated, _ = env.step(action)\n",
    "\n",
    "            # update n_s for new state\n",
    "            n_s[next_state] += 1\n",
    "\n",
    "            # update n_s_a for (state, action)\n",
    "            n_s_a[state, action] += 1\n",
    "\n",
    "            # get learning rate alpha\n",
    "            alpha = get_lr(n_s_a[state, action], mode)\n",
    "\n",
    "            # update Q table\n",
    "            Q[state, action] = Q[state, action] + alpha * (reward + GAMMA * np.max(Q[next_state]) - Q[state, action])\n",
    "\n",
    "            # update state to be next state\n",
    "            state = next_state\n",
    "\n",
    "            # calculate running average of rewards for first MAX_STEPS steps\n",
    "            if total_steps_taken < MAX_STEPS:\n",
    "                running_avg = (total_steps_taken * running_avg + reward) / (total_steps_taken + 1)\n",
    "                running_avg_per_step.append(running_avg)\n",
    "                \n",
    "            total_steps_taken += 1\n",
    "\n",
    "    return running_avg_per_step, running_avg_max_Q_per_step, Q"
   ]
  },
  {
   "attachments": {},
   "cell_type": "markdown",
   "metadata": {},
   "source": [
    "#### Double Q-learning"
   ]
  },
  {
   "cell_type": "code",
   "execution_count": 285,
   "metadata": {},
   "outputs": [],
   "source": [
    "def Double_Q_learning(env, n_episodes, mode):\n",
    "    '''\n",
    "    Implementation of the Double Q-learning algorithm.\n",
    "    '''\n",
    "    \n",
    "    # create Q_a, Q_b tables\n",
    "    Q_a = np.zeros((env.observation_space.n, env.action_space.n))\n",
    "    Q_b = np.zeros((env.observation_space.n, env.action_space.n))\n",
    "\n",
    "    # variables to keep track of reward running average for first MAX_STEPS number of steps\n",
    "    running_avg_per_step = []\n",
    "    running_avg = 0\n",
    "    total_steps_taken = 0\n",
    "\n",
    "    # variables to keep track of max Q(S,a) for the starting state over all episodes\n",
    "    running_avg_max_Q_per_step = []\n",
    "    running_avg_max_Q = 0\n",
    "\n",
    "    for episode in tqdm(range(n_episodes)):\n",
    "\n",
    "        # keep track of number of times a state is visited (used to calculate epislon)\n",
    "        n_s = np.zeros(env.observation_space.n)\n",
    "\n",
    "        # keep track of number of times a state-action pair is visited (used to calculate alpha)\n",
    "        n_s_a = np.zeros((env.observation_space.n, env.action_space.n))\n",
    "        \n",
    "        # reset env\n",
    "        state, _ = env.reset()\n",
    "\n",
    "        # update n_s for initial state\n",
    "        n_s[state] += 1\n",
    "\n",
    "        # for starting state: get maximal Q value, get running average\n",
    "        max_starting_Q_a = np.max(Q_a[state])\n",
    "        max_starting_Q_b = np.max(Q_a[state])\n",
    "        max_starting_Q = max_starting_Q_a if max_starting_Q_a > max_starting_Q_b else max_starting_Q_b\n",
    "        running_avg_max_Q = (total_steps_taken * running_avg_max_Q + max_starting_Q) / (total_steps_taken + 1)\n",
    "        running_avg_max_Q_per_step.append(running_avg_max_Q)\n",
    "\n",
    "        terminated = False\n",
    "\n",
    "        while not terminated:\n",
    "            \n",
    "            # epsilon-greedy exploration\n",
    "            epsilon = get_epsilon(n_s[state])\n",
    "\n",
    "            if np.random.rand() < epsilon:\n",
    "                action = env.action_space.sample()\n",
    "            else:\n",
    "                # get action with maximal Q value per Double Q-learning\n",
    "                Q = Q_a[state] + Q_b[state]\n",
    "                max = np.where(np.max(Q) == Q)[0]\n",
    "                action = np.random.choice(max)\n",
    "\n",
    "            # apply action, get reward\n",
    "            next_state, reward, terminated, _ = env.step(action)\n",
    "            \n",
    "            # update n_s for new state\n",
    "            n_s[next_state] += 1\n",
    "\n",
    "            # update n_s_a for (state, action)\n",
    "            n_s_a[state, action] += 1\n",
    "\n",
    "            # get learning rate alpha\n",
    "            alpha = get_lr(n_s_a[state, action], mode) \n",
    "\n",
    "            # update Q_a or Q_b with equal probability\n",
    "            if np.random.rand() < 0.5:\n",
    "                # update Q_a\n",
    "                c = alpha * (reward + GAMMA * Q_b[next_state, np.argmax(Q_a[next_state])] - Q_a[state, action])\n",
    "                Q_a[state, action] = Q_a[state, action] + c\n",
    "            else:\n",
    "                # update Q_b\n",
    "                c = alpha * (reward + GAMMA * Q_a[next_state, np.argmax(Q_b[next_state])] - Q_b[state, action])\n",
    "                Q_b[state, action] = Q_b[state, action] + c\n",
    "\n",
    "            # update state to be next state\n",
    "            state = next_state\n",
    "\n",
    "            # calculate running average of rewards for first MAX_STEPS steps\n",
    "            if total_steps_taken < MAX_STEPS:\n",
    "                running_avg = (total_steps_taken * running_avg + reward) / (total_steps_taken + 1)\n",
    "                running_avg_per_step.append(running_avg)\n",
    "                \n",
    "            total_steps_taken += 1\n",
    "\n",
    "    return running_avg_per_step, running_avg_max_Q_per_step, Q_a, Q_b\n"
   ]
  },
  {
   "attachments": {},
   "cell_type": "markdown",
   "metadata": {},
   "source": [
    "### Running the experiments from the paper"
   ]
  },
  {
   "cell_type": "code",
   "execution_count": 286,
   "metadata": {},
   "outputs": [
    {
     "name": "stderr",
     "output_type": "stream",
     "text": [
      "100%|██████████| 10000/10000 [00:17<00:00, 577.23it/s]\n",
      "100%|██████████| 10000/10000 [00:12<00:00, 777.06it/s]\n"
     ]
    }
   ],
   "source": [
    "# run q-learning\n",
    "env3x3 = GridWorld3x3Env()\n",
    "\n",
    "Q_learning_mode_1_running_avg_per_step_3x3, Q_learning_mode_1_running_avg_max_Q_per_step_3x3, _ = Q_learning(env=env3x3, n_episodes=10000, mode=1)\n",
    "Q_learning_mode_2_running_avg_per_step_3x3, Q_learning_mode_2_running_avg_max_Q_per_step_3x3, _ = Q_learning(env=env3x3, n_episodes=10000, mode=2)"
   ]
  },
  {
   "cell_type": "code",
   "execution_count": 287,
   "metadata": {},
   "outputs": [
    {
     "name": "stderr",
     "output_type": "stream",
     "text": [
      "100%|██████████| 10000/10000 [00:03<00:00, 2746.47it/s]\n",
      "100%|██████████| 10000/10000 [00:03<00:00, 2675.46it/s]\n"
     ]
    }
   ],
   "source": [
    "# run double q-learning\n",
    "env3x3 = GridWorld3x3Env()\n",
    "\n",
    "Double_Q_learning_mode_1_running_avg_per_step_3x3, Double_Q_learning_mode_1_running_avg_max_Q_per_step_3x3, _, _ = Double_Q_learning(env=env3x3, n_episodes=10000, mode=1)\n",
    "Double_Q_learning_mode_2_running_avg_per_step_3x3, Double_Q_learning_mode_2_running_avg_max_Q_per_step_3x3, _, _ = Double_Q_learning(env=env3x3, n_episodes=10000, mode=2)"
   ]
  },
  {
   "attachments": {},
   "cell_type": "markdown",
   "metadata": {},
   "source": [
    "Generate the plots from the paper.\n",
    "\n",
    "First row: average rewards per timestep for the 3x3 grid world.\n",
    "\n",
    "Second row: maximal action value in the starting state averaged over 10'000 experiments."
   ]
  },
  {
   "cell_type": "code",
   "execution_count": 288,
   "metadata": {},
   "outputs": [
    {
     "data": {
      "text/plain": [
       "(0.0, 10000.0)"
      ]
     },
     "execution_count": 288,
     "metadata": {},
     "output_type": "execute_result"
    },
    {
     "data": {
      "image/png": "[encoded data removed]",
      "text/plain": [
       "<Figure size 640x480 with 4 Axes>"
      ]
     },
     "metadata": {},
     "output_type": "display_data"
    }
   ],
   "source": [
    "fig, axs = plt.subplots(2, 2)\n",
    "\n",
    "axs[0, 0].set_title(r'$\\alpha = 1/n(s,a)$')\n",
    "axs[0, 0].plot(np.arange(MAX_STEPS), Q_learning_mode_1_running_avg_per_step_3x3, linewidth=1, label='Q')\n",
    "axs[0, 0].plot(np.arange(MAX_STEPS), Double_Q_learning_mode_1_running_avg_per_step_3x3, linewidth=1, label='Double Q')\n",
    "axs[0, 0].set_xlim(0, 10000)\n",
    "axs[0, 0].set_ylim(-1.5, 0.5)\n",
    "axs[0, 0].set_ylabel(r'$r$ per step')\n",
    "axs[0, 0].legend()\n",
    "\n",
    "axs[0, 1].set_title(r'$\\alpha = 1/n(s,a)^{0.8}$')\n",
    "axs[0, 1].plot(np.arange(MAX_STEPS), Q_learning_mode_2_running_avg_per_step_3x3, linewidth=1)\n",
    "axs[0, 1].plot(np.arange(MAX_STEPS), Double_Q_learning_mode_2_running_avg_per_step_3x3, linewidth=1)\n",
    "axs[0, 1].set_xlim(0, 10000)\n",
    "axs[0, 1].set_ylim(-1.5, 0.5)\n",
    "\n",
    "axs[1, 0].set_ylabel(r'$max_{a} Q(S, a)$')\n",
    "axs[1, 0].set_xlabel('Number of steps')\n",
    "axs[1, 0].plot(np.arange(MAX_STEPS), Q_learning_mode_1_running_avg_max_Q_per_step_3x3, linewidth=1)\n",
    "axs[1, 0].plot(np.arange(MAX_STEPS), Double_Q_learning_mode_1_running_avg_max_Q_per_step_3x3, linewidth=1)\n",
    "axs[1, 0].set_xlim(0, 10000)\n",
    "\n",
    "axs[1, 1].set_xlabel('Number of steps')\n",
    "axs[1, 1].plot(np.arange(MAX_STEPS), Q_learning_mode_2_running_avg_max_Q_per_step_3x3, linewidth=1)\n",
    "axs[1, 1].plot(np.arange(MAX_STEPS), Double_Q_learning_mode_2_running_avg_max_Q_per_step_3x3, linewidth=1)\n",
    "axs[1, 1].set_xlim(0, 10000)"
   ]
  }
 ],
 "metadata": {
  "kernelspec": {
   "display_name": "base",
   "language": "python",
   "name": "python3"
  },
  "language_info": {
   "codemirror_mode": {
    "name": "ipython",
    "version": 3
   },
   "file_extension": ".py",
   "mimetype": "text/x-python",
   "name": "python",
   "nbconvert_exporter": "python",
   "pygments_lexer": "ipython3",
   "version": "3.8.8"
  },
  "orig_nbformat": 4
 },
 "nbformat": 4,
 "nbformat_minor": 2
}
