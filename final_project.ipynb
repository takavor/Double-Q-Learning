{
 "cells": [
  {
   "attachments": {},
   "cell_type": "markdown",
   "metadata": {},
   "source": [
    "Ideas for project:\n",
    "-try larger grid sizes\n",
    "-try UP and RIGHT moves more often"
   ]
  },
  {
   "cell_type": "code",
   "execution_count": 1,
   "metadata": {},
   "outputs": [],
   "source": [
    "from gym import Env\n",
    "from gym.spaces import Discrete, Box\n",
    "import random\n",
    "import numpy as np\n",
    "\n",
    "from envs.GridWorld3x3Env import GridWorld3x3Env"
   ]
  },
  {
   "cell_type": "code",
   "execution_count": 3,
   "metadata": {},
   "outputs": [
    {
     "data": {
      "text/plain": [
       "[71, 23, -17, -135, 55, -3, -37, 47, 31, 17]"
      ]
     },
     "execution_count": 3,
     "metadata": {},
     "output_type": "execute_result"
    }
   ],
   "source": [
    "env = GridWorld3x3Env()\n",
    "\n",
    "episodes = 10\n",
    "score_per_episode = []\n",
    "\n",
    "for episodes in range(1, episodes+1):\n",
    "\n",
    "    state = env.reset()\n",
    "    terminated = False\n",
    "    score = 0\n",
    "\n",
    "    while not terminated:\n",
    "        action = env.action_space.sample()\n",
    "        next_state, reward, terminated, information = env.step(action)\n",
    "        score += reward\n",
    "    \n",
    "    score_per_episode.append(score)\n",
    "\n",
    "score_per_episode"
   ]
  }
 ],
 "metadata": {
  "kernelspec": {
   "display_name": "base",
   "language": "python",
   "name": "python3"
  },
  "language_info": {
   "codemirror_mode": {
    "name": "ipython",
    "version": 3
   },
   "file_extension": ".py",
   "mimetype": "text/x-python",
   "name": "python",
   "nbconvert_exporter": "python",
   "pygments_lexer": "ipython3",
   "version": "3.8.8"
  },
  "orig_nbformat": 4
 },
 "nbformat": 4,
 "nbformat_minor": 2
}
